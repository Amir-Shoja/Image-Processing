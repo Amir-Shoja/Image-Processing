{
 "cells": [
  {
   "cell_type": "code",
   "execution_count": 18,
   "id": "26908eda-32d5-43e0-9aa2-a9985096adee",
   "metadata": {},
   "outputs": [],
   "source": [
    "import pygame\n",
    "\n",
    "img = pygame.image.load('ex.jpg')\n",
    "W, H = img.get_width(), img.get_height()\n",
    "contrast = -40 #int(input())\n",
    "F = (259 * (contrast + 255)) / (255 * (259 - contrast))\n",
    "\n",
    "def fix_color(color):\n",
    "    if color > 255:\n",
    "        return 255\n",
    "    elif color < 0:\n",
    "        return 0\n",
    "    else:\n",
    "        return int(color)\n",
    "\n",
    "for x in range(W):\n",
    "    for y in range(H):\n",
    "        color = pygame.Surface.get_at(img, (x,y))\n",
    "        R , G , B = F * (color.r - 128) + 128, F * (color.g - 128) + 128, F * (color.b - 128) + 128\n",
    "        R , G , B = fix_color(R), fix_color(G), fix_color(B)\n",
    "        color.update(R,G,B)\n",
    "        pygame.Surface.set_at(img, (x,y), color)\n",
    "\n",
    "pygame.image.save(img, 'output.jpg')"
   ]
  },
  {
   "cell_type": "code",
   "execution_count": null,
   "id": "ba06d568",
   "metadata": {},
   "outputs": [],
   "source": []
  }
 ],
 "metadata": {
  "kernelspec": {
   "display_name": "Python 3.10.5 64-bit",
   "language": "python",
   "name": "python3"
  },
  "language_info": {
   "codemirror_mode": {
    "name": "ipython",
    "version": 3
   },
   "file_extension": ".py",
   "mimetype": "text/x-python",
   "name": "python",
   "nbconvert_exporter": "python",
   "pygments_lexer": "ipython3",
   "version": "3.10.5"
  },
  "vscode": {
   "interpreter": {
    "hash": "99b952739b35e3e08728c2cfdae02c292a53190c1ad4c422c04077a39abb1676"
   }
  }
 },
 "nbformat": 4,
 "nbformat_minor": 5
}
